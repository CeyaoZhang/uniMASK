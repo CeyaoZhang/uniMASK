{
 "cells": [
  {
   "cell_type": "code",
   "execution_count": 106,
   "id": "6bb7d58b",
   "metadata": {},
   "outputs": [],
   "source": [
    "from collections import defaultdict\n",
    "import numpy as np\n",
    "import wandb\n",
    "\n",
    "from uniMASK.utils import (\n",
    "    average_dictionaries,\n",
    "    create_dir_if_not_exists,\n",
    "    delete_dir_if_exists,\n",
    "    load_from_json,\n",
    "    mean_and_std_err,\n",
    "    save_as_json,\n",
    "    to_numpy,\n",
    ")"
   ]
  },
  {
   "cell_type": "code",
   "execution_count": 104,
   "id": "6dfaac71",
   "metadata": {},
   "outputs": [],
   "source": [
    "api = wandb.Api()\n",
    "\n",
    "# Project is specified by <entity/project-name>\n",
    "runs = api.runs(\"fbert/maze_expl_sweeps_reproduce\")\n",
    "summary_list = [] \n",
    "config_list = [] \n",
    "name_list = [] \n",
    "for run in runs: \n",
    "    # run.summary are the output key/values like accuracy.\n",
    "    # We call ._json_dict to omit large files \n",
    "    summary_list.append(run.summary._json_dict) \n",
    "\n",
    "    # run.config is the input metrics.\n",
    "    # We remove special values that start with _.\n",
    "    config = {k:v for k,v in run.config.items() if not k.startswith('_')}\n",
    "    config_list.append(config) \n",
    "\n",
    "    # run.name is the name of the run.\n",
    "    name_list.append(run.name)       \n",
    "\n",
    "import pandas as pd \n",
    "summary_df = pd.DataFrame.from_records(summary_list) \n",
    "config_df = pd.DataFrame.from_records(config_list) \n",
    "name_df = pd.DataFrame({'name': name_list}) \n",
    "all_df = pd.concat([name_df, config_df,summary_df], axis=1)"
   ]
  },
  {
   "cell_type": "code",
   "execution_count": null,
   "id": "6c3679da",
   "metadata": {},
   "outputs": [],
   "source": []
  },
  {
   "cell_type": "code",
   "execution_count": 97,
   "id": "3983e899",
   "metadata": {},
   "outputs": [],
   "source": [
    "def get_dicts(seq_len):\n",
    "    df = all_df[all_df.seq_len == seq_len]\n",
    "    \n",
    "    d = defaultdict(lambda: defaultdict(list))\n",
    "    for row_idx in range(len(df)):\n",
    "        row = df.iloc[row_idx]\n",
    "        run_name = row['name']\n",
    "        bc_rew = row['best_eval_avg_rew_BCBC']\n",
    "        rc_rew = row['best_eval_avg_rew_RCRC']\n",
    "        d[run_name[:-7]][\"bc_rew\"].append(bc_rew)\n",
    "        d[run_name[:-7]][\"rc_rew\"].append(rc_rew)\n",
    "    \n",
    "    bc_table_values = {k: mean_and_std_err(v['bc_rew']) for k, v in d.items()}\n",
    "    rc_table_values = {k: mean_and_std_err(v['rc_rew']) for k, v in d.items()}\n",
    "    best_bc_table_values = {k: np.argmax(v['bc_rew']) for k, v in d.items()}\n",
    "    best_rc_table_values = {k: np.argmax(v['rc_rew']) for k, v in d.items()}\n",
    "    return bc_table_values, rc_table_values, best_bc_table_values, best_rc_table_values"
   ]
  },
  {
   "cell_type": "code",
   "execution_count": 102,
   "id": "562b02f2",
   "metadata": {},
   "outputs": [],
   "source": [
    "a, b, c, d = get_dicts(10)"
   ]
  },
  {
   "cell_type": "code",
   "execution_count": 91,
   "id": "4365f534",
   "metadata": {},
   "outputs": [
    {
     "data": {
      "text/plain": [
       "({'900N_10len_DT_BC_rl_sl0_t_enc_DT': (1.581528819093314, 0.05752544208101805),\n",
       "  '900N_10len_DT_RC_rl_sl0_t_enc_DT': (nan, nan),\n",
       "  '900N_10len_RC_rl_NN': (nan, nan),\n",
       "  '900N_10len_BC_rl_NN': (1.8314716384128409, 0.066168293128948),\n",
       "  '900N_10len_DT_RC_rl_sl0_DT': (nan, nan),\n",
       "  '900N_10len_DT_BC_rl_sl0_DT': (2.7419418408825975, 0.01129227507346532),\n",
       "  '900N_10len_RC_rl': (nan, nan),\n",
       "  '900N_10len_BC_rl': (2.4676030231346324, 0.044116914384106684),\n",
       "  '900N_10len_rnd_BC_rl': (2.3621858031193916, 0.05770550366157036),\n",
       "  '900N_10len_BC_RC_rl': (2.3902412642475896, 0.03391566144801734),\n",
       "  '900N_10len_rnd_rl': (2.292935913451514, 0.0707849456179969)},\n",
       " {'900N_10len_DT_BC_rl_sl0_t_enc_DT': (nan, nan),\n",
       "  '900N_10len_DT_RC_rl_sl0_t_enc_DT': (1.7000489033190438,\n",
       "   0.07455501826692258),\n",
       "  '900N_10len_RC_rl_NN': (1.8751192178712928, 0.0647570515695031),\n",
       "  '900N_10len_BC_rl_NN': (nan, nan),\n",
       "  '900N_10len_DT_RC_rl_sl0_DT': (2.725090147117382, 0.02092296001031855),\n",
       "  '900N_10len_DT_BC_rl_sl0_DT': (nan, nan),\n",
       "  '900N_10len_RC_rl': (2.4149014270047884, 0.045370413314322025),\n",
       "  '900N_10len_BC_rl': (nan, nan),\n",
       "  '900N_10len_rnd_BC_rl': (nan, nan),\n",
       "  '900N_10len_BC_RC_rl': (2.386277946834995, 0.03299964146725702),\n",
       "  '900N_10len_rnd_rl': (2.3064043475162412, 0.06098353552067581)})"
      ]
     },
     "execution_count": 91,
     "metadata": {},
     "output_type": "execute_result"
    }
   ],
   "source": [
    "a,b"
   ]
  },
  {
   "cell_type": "code",
   "execution_count": 103,
   "id": "19ce6b0a",
   "metadata": {},
   "outputs": [
    {
     "data": {
      "text/plain": [
       "({'900N_10len_DT_BC_rl_sl0_t_enc_DT': 4,\n",
       "  '900N_10len_DT_RC_rl_sl0_t_enc_DT': 0,\n",
       "  '900N_10len_RC_rl_NN': 0,\n",
       "  '900N_10len_BC_rl_NN': 2,\n",
       "  '900N_10len_DT_RC_rl_sl0_DT': 0,\n",
       "  '900N_10len_DT_BC_rl_sl0_DT': 2,\n",
       "  '900N_10len_RC_rl': 0,\n",
       "  '900N_10len_BC_rl': 2,\n",
       "  '900N_10len_rnd_BC_rl': 3,\n",
       "  '900N_10len_BC_RC_rl': 3,\n",
       "  '900N_10len_rnd_rl': 0},\n",
       " {'900N_10len_DT_BC_rl_sl0_t_enc_DT': 0,\n",
       "  '900N_10len_DT_RC_rl_sl0_t_enc_DT': 2,\n",
       "  '900N_10len_RC_rl_NN': 4,\n",
       "  '900N_10len_BC_rl_NN': 0,\n",
       "  '900N_10len_DT_RC_rl_sl0_DT': 2,\n",
       "  '900N_10len_DT_BC_rl_sl0_DT': 0,\n",
       "  '900N_10len_RC_rl': 4,\n",
       "  '900N_10len_BC_rl': 0,\n",
       "  '900N_10len_rnd_BC_rl': 0,\n",
       "  '900N_10len_BC_RC_rl': 3,\n",
       "  '900N_10len_rnd_rl': 0})"
      ]
     },
     "execution_count": 103,
     "metadata": {},
     "output_type": "execute_result"
    }
   ],
   "source": [
    "c, d"
   ]
  },
  {
   "cell_type": "code",
   "execution_count": null,
   "id": "1501a9c5",
   "metadata": {},
   "outputs": [],
   "source": []
  }
 ],
 "metadata": {
  "kernelspec": {
   "display_name": "Python 3 (ipykernel)",
   "language": "python",
   "name": "python3"
  },
  "language_info": {
   "codemirror_mode": {
    "name": "ipython",
    "version": 3
   },
   "file_extension": ".py",
   "mimetype": "text/x-python",
   "name": "python",
   "nbconvert_exporter": "python",
   "pygments_lexer": "ipython3",
   "version": "3.7.13"
  }
 },
 "nbformat": 4,
 "nbformat_minor": 5
}
